{
  "nbformat": 4,
  "nbformat_minor": 0,
  "metadata": {
    "colab": {
      "provenance": [],
      "authorship_tag": "ABX9TyMD87q9nxv+jdskuSRykEEK",
      "include_colab_link": true
    },
    "kernelspec": {
      "name": "python3",
      "display_name": "Python 3"
    },
    "language_info": {
      "name": "python"
    }
  },
  "cells": [
    {
      "cell_type": "markdown",
      "metadata": {
        "id": "view-in-github",
        "colab_type": "text"
      },
      "source": [
        "<a href=\"https://colab.research.google.com/github/ShivaShirsath/nlp/blob/master/5.ipynb\" target=\"_parent\"><img src=\"https://colab.research.google.com/assets/colab-badge.svg\" alt=\"Open In Colab\"/></a>"
      ]
    },
    {
      "cell_type": "code",
      "execution_count": 1,
      "metadata": {
        "colab": {
          "base_uri": "https://localhost:8080/"
        },
        "id": "k5DzEP0dUXyP",
        "outputId": "314fcf57-b4f1-41d6-9ef6-aaa7a2eb436b"
      },
      "outputs": [
        {
          "output_type": "stream",
          "name": "stdout",
          "text": [
            "Adding '-ness' to 'happy' creates 'happy-ness'\n",
            "Deleting '-y' from 'happy' creates 'happy'\n",
            "Adding 'un-' to 'happy' creates 'happyun-'\n",
            "Deleting '-happy' from 'happy' creates 'happy'\n",
            "Adding '-er' to 'happy' creates 'happy-er'\n",
            "Deleting '-ness' from 'happy' creates 'happy'\n",
            "Adding '-ness' to 'happy' creates 'happy-ness'\n",
            "Deleting '-er' from 'happy' creates 'happy'\n"
          ]
        }
      ],
      "source": [
        "# Define the root word\n",
        "root_word = \"happy\"\n",
        "\n",
        "# Define the add-delete table\n",
        "add_delete_table = [\n",
        "    (\"-ness\", \"-y\"),\n",
        "    (\"un-\", \"-happy\"),\n",
        "    (\"-er\", \"-ness\"),\n",
        "    (\"-ness\", \"-er\")\n",
        "]\n",
        "\n",
        "# Iterate over the add-delete table and print the resulting words\n",
        "for add, delete in add_delete_table:\n",
        "    new_word = root_word + add\n",
        "    print(f\"Adding '{add}' to '{root_word}' creates '{new_word}'\")\n",
        "    \n",
        "    new_word = root_word.replace(delete, \"\")\n",
        "    print(f\"Deleting '{delete}' from '{root_word}' creates '{new_word}'\")"
      ]
    }
  ]
}